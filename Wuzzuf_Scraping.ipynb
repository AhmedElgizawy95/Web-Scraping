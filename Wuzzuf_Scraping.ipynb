{
 "cells": [
  {
   "cell_type": "code",
   "execution_count": 5,
   "id": "5dbf096b",
   "metadata": {},
   "outputs": [],
   "source": [
    "from bs4 import BeautifulSoup\n",
    "import requests\n",
    "import csv\n",
    "from itertools import zip_longest\n"
   ]
  },
  {
   "cell_type": "code",
   "execution_count": 304,
   "id": "6badf64c",
   "metadata": {},
   "outputs": [],
   "source": [
    "Titles = []\n",
    "CompanyNames = []\n",
    "Locations = []\n",
    "Links = []\n",
    "Quals = []"
   ]
  },
  {
   "cell_type": "code",
   "execution_count": 305,
   "id": "7d027b8e",
   "metadata": {},
   "outputs": [],
   "source": [
    "for j in range(2): \n",
    "    result = requests.get(\"https://wuzzuf.net/search/jobs/?a=hpb&q=data%20scientist&start={}\".format(j))\n",
    "    src = result.content\n",
    "    bs = BeautifulSoup(src,'lxml')\n",
    "    jobtitles = bs.find_all(\"h2\",class_=\"css-m604qf\")\n",
    "    links = bs.find_all(\"a\",class_=\"css-o171kl\")\n",
    "    companies = bs.find_all(\"a\",class_=\"css-17s97q8\")\n",
    "    locations = bs.find_all(\"span\",class_=\"css-5wys0k\")\n",
    "    experience = bs.find_all(\"div\",class_=\"css-y4udm8\")\n",
    "    for i in range(len(jobtitles)):\n",
    "        Titles.append(jobtitles[i].text)\n",
    "        CompanyNames.append(companies[i].text)\n",
    "        Links.append(\"https://wuzzuf.net\"+links[i]['href'])\n",
    "        Locations.append(locations[i].text)\n",
    "        Quals.append(experience[i].text[9:])\n",
    "\n",
    "\n",
    "\n",
    "    "
   ]
  },
  {
   "cell_type": "code",
   "execution_count": 307,
   "id": "ae12bb05",
   "metadata": {},
   "outputs": [],
   "source": [
    "\n",
    "file_list = [Titles,CompanyNames,Links,Locations,Quals]\n",
    "exported = zip_longest(*file_list)\n",
    "with open('Jobz.csv','w',encoding=\"utf-8\") as myfile:\n",
    "    wr = csv.writer(myfile)\n",
    "    wr.writerow([\"Job Title\",\"Company Name\",\"Link\",\"Location\",\"Qualifications\"])\n",
    "    wr.writerows(exported)"
   ]
  }
 ],
 "metadata": {
  "kernelspec": {
   "display_name": "Python 3 (ipykernel)",
   "language": "python",
   "name": "python3"
  },
  "language_info": {
   "codemirror_mode": {
    "name": "ipython",
    "version": 3
   },
   "file_extension": ".py",
   "mimetype": "text/x-python",
   "name": "python",
   "nbconvert_exporter": "python",
   "pygments_lexer": "ipython3",
   "version": "3.9.5"
  }
 },
 "nbformat": 4,
 "nbformat_minor": 5
}
