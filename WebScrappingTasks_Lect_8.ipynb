{
 "cells": [
  {
   "cell_type": "code",
   "execution_count": 4,
   "id": "ad42a3e2",
   "metadata": {},
   "outputs": [],
   "source": [
    "import requests\n",
    "import csv"
   ]
  },
  {
   "cell_type": "code",
   "execution_count": 29,
   "id": "b9e1fcdf",
   "metadata": {},
   "outputs": [],
   "source": [
    "################################### Task 1############################\n",
    "\n",
    "\n",
    "responseT1 = requests.get(\"https://api.frankfurter.app/latest?amount=1&from=USD&to=EUR\")\n",
    "\n",
    "responseT1 = responseT1.json()"
   ]
  },
  {
   "cell_type": "code",
   "execution_count": 30,
   "id": "7c7b0e70",
   "metadata": {},
   "outputs": [
    {
     "data": {
      "text/plain": [
       "{'amount': 1.0, 'base': 'USD', 'date': '2022-02-04', 'rates': {'EUR': 0.8723}}"
      ]
     },
     "execution_count": 30,
     "metadata": {},
     "output_type": "execute_result"
    }
   ],
   "source": [
    "responseT1"
   ]
  },
  {
   "cell_type": "code",
   "execution_count": 31,
   "id": "a084ea81",
   "metadata": {},
   "outputs": [],
   "source": [
    "USD_EUR_Rate = float(responseT1['rates']['EUR'])"
   ]
  },
  {
   "cell_type": "code",
   "execution_count": 32,
   "id": "5b5ad888",
   "metadata": {},
   "outputs": [
    {
     "data": {
      "text/plain": [
       "0.8723"
      ]
     },
     "execution_count": 32,
     "metadata": {},
     "output_type": "execute_result"
    }
   ],
   "source": [
    "USD_EUR_Rate"
   ]
  },
  {
   "cell_type": "code",
   "execution_count": 33,
   "id": "b1b7fe48",
   "metadata": {},
   "outputs": [
    {
     "name": "stdout",
     "output_type": "stream",
     "text": [
      "Enter amount in USD 12000\n",
      "12000.0 USD is 10467.6 EUR\n"
     ]
    }
   ],
   "source": [
    "amountfromuser = float(input('Enter amount in USD '))\n",
    "Amount = amountfromuser * USD_EUR_Rate\n",
    "print('{} USD is {} EUR'.format(amountfromuser,Amount))"
   ]
  },
  {
   "cell_type": "code",
   "execution_count": 36,
   "id": "1cc3faac",
   "metadata": {},
   "outputs": [],
   "source": [
    "# To change 1 $ to 10 in URL :\n",
    "# We can write 1 instead of 10 https://api.frankfurter.app/latest?amount=10&from=USD&to=EUR\n",
    "\n",
    "responseT1_1 = requests.get(\"https://api.frankfurter.app/latest?amount=10&from=USD&to=EUR\")\n",
    "responseT1_1 = responeT1_1.json()"
   ]
  },
  {
   "cell_type": "code",
   "execution_count": 37,
   "id": "ac4f2413",
   "metadata": {},
   "outputs": [
    {
     "data": {
      "text/plain": [
       "8.723"
      ]
     },
     "execution_count": 37,
     "metadata": {},
     "output_type": "execute_result"
    }
   ],
   "source": [
    "responseT1_1['rates']['EUR']"
   ]
  },
  {
   "cell_type": "code",
   "execution_count": 38,
   "id": "bc5f9c66",
   "metadata": {},
   "outputs": [
    {
     "name": "stdout",
     "output_type": "stream",
     "text": [
      "Enter amount in USD 12000\n",
      "12000.0 USD is 104676.00000000001 EUR\n"
     ]
    }
   ],
   "source": [
    "USD_EUR_Rate2 = float(responseT1_1['rates']['EUR'])\n",
    "amountfromuser2 = float(input('Enter amount in USD '))\n",
    "Amount2 = amountfromuser2 * USD_EUR_Rate2\n",
    "print('{} USD is {} EUR'.format(amountfromuser2,Amount2))"
   ]
  },
  {
   "cell_type": "code",
   "execution_count": 40,
   "id": "e30259c0",
   "metadata": {},
   "outputs": [],
   "source": [
    "################################### Task 2############################\n",
    "\n",
    "\n",
    "responseT2 = requests.get(\"https://www.metaweather.com/api/location/1521894/\")\n",
    "\n",
    "responseT2 = responseT2.json()"
   ]
  },
  {
   "cell_type": "code",
   "execution_count": 45,
   "id": "c5d04bbf",
   "metadata": {},
   "outputs": [
    {
     "data": {
      "text/plain": [
       "dict_keys(['consolidated_weather', 'time', 'sun_rise', 'sun_set', 'timezone_name', 'parent', 'sources', 'title', 'location_type', 'woeid', 'latt_long', 'timezone'])"
      ]
     },
     "execution_count": 45,
     "metadata": {},
     "output_type": "execute_result"
    }
   ],
   "source": [
    "responseT2.keys()"
   ]
  },
  {
   "cell_type": "code",
   "execution_count": 54,
   "id": "483287da",
   "metadata": {},
   "outputs": [
    {
     "data": {
      "text/plain": [
       "{'id': 5160739699425280,\n",
       " 'weather_state_name': 'Light Cloud',\n",
       " 'weather_state_abbr': 'lc',\n",
       " 'wind_direction_compass': 'W',\n",
       " 'created': '2022-02-06T04:34:22.465598Z',\n",
       " 'applicable_date': '2022-02-06',\n",
       " 'min_temp': 8.805,\n",
       " 'max_temp': 19.21,\n",
       " 'the_temp': 17.6,\n",
       " 'wind_speed': 4.1947014165752,\n",
       " 'wind_direction': 277.8513354927971,\n",
       " 'air_pressure': 1025.5,\n",
       " 'humidity': 56,\n",
       " 'visibility': 11.122855026644396,\n",
       " 'predictability': 70}"
      ]
     },
     "execution_count": 54,
     "metadata": {},
     "output_type": "execute_result"
    }
   ],
   "source": [
    "responseT2['consolidated_weather'][0]"
   ]
  },
  {
   "cell_type": "code",
   "execution_count": 55,
   "id": "7866ecd5",
   "metadata": {},
   "outputs": [],
   "source": [
    "Temp_data = []"
   ]
  },
  {
   "cell_type": "code",
   "execution_count": 57,
   "id": "6f119df5",
   "metadata": {},
   "outputs": [],
   "source": [
    "for reading in responseT2['consolidated_weather']:\n",
    "    lst = [reading['applicable_date'],reading['min_temp'],reading['max_temp'],reading['humidity'],reading['visibility']\n",
    "          ,reading['air_pressure'],reading['wind_speed']]\n",
    "    \n",
    "    Temp_data.append(lst)"
   ]
  },
  {
   "cell_type": "code",
   "execution_count": 58,
   "id": "e9034aba",
   "metadata": {},
   "outputs": [],
   "source": [
    "with open(\"tempz.csv\", 'w', newline=\"\") as f :\n",
    "    writer = csv.writer(f)\n",
    "    writer.writerow(['Day', 'Temp', 'Humidity', 'Visibility', 'Air-Pressure', 'WindSpeed'])\n",
    "    writer.writerows(Temp_data)"
   ]
  },
  {
   "cell_type": "code",
   "execution_count": 8,
   "id": "1754dfff",
   "metadata": {},
   "outputs": [],
   "source": [
    "################################### Task 3 ############################\n",
    "\n",
    "\n",
    "\n",
    "\n",
    "response = requests.get(\"https://jsonplaceholder.typicode.com/users\")\n",
    "response = response.json()"
   ]
  },
  {
   "cell_type": "code",
   "execution_count": 19,
   "id": "705a1931",
   "metadata": {},
   "outputs": [
    {
     "data": {
      "text/plain": [
       "dict_keys(['id', 'name', 'username', 'email', 'address', 'phone', 'website', 'company'])"
      ]
     },
     "execution_count": 19,
     "metadata": {},
     "output_type": "execute_result"
    }
   ],
   "source": [
    "response[0].keys()"
   ]
  },
  {
   "cell_type": "code",
   "execution_count": 20,
   "id": "3da3e4d7",
   "metadata": {},
   "outputs": [],
   "source": [
    "userdata=[]"
   ]
  },
  {
   "cell_type": "code",
   "execution_count": 24,
   "id": "6047cc42",
   "metadata": {},
   "outputs": [],
   "source": [
    "for aresp in response:\n",
    "    lst = [aresp['name'], aresp['username'], aresp['email'], aresp['address']['street'], aresp['address']['suite'],\n",
    "           aresp['address']['city'], aresp['address']['zipcode'], \n",
    "           aresp['address']['geo']['lat'], aresp['address']['geo']['lng']]\n",
    "    \n",
    "    userdata.append(lst)"
   ]
  },
  {
   "cell_type": "code",
   "execution_count": 26,
   "id": "22a259f0",
   "metadata": {},
   "outputs": [
    {
     "data": {
      "text/plain": [
       "['Leanne Graham',\n",
       " 'Bret',\n",
       " 'Sincere@april.biz',\n",
       " 'Kulas Light',\n",
       " 'Apt. 556',\n",
       " 'Gwenborough',\n",
       " '92998-3874',\n",
       " '-37.3159',\n",
       " '81.1496']"
      ]
     },
     "execution_count": 26,
     "metadata": {},
     "output_type": "execute_result"
    }
   ],
   "source": [
    "userdata[0]"
   ]
  },
  {
   "cell_type": "code",
   "execution_count": 27,
   "id": "e70cbafc",
   "metadata": {},
   "outputs": [],
   "source": [
    "with open(\"userz.csv\", 'w', newline=\"\") as f :\n",
    "    writer = csv.writer(f)\n",
    "    writer.writerow(['name', 'user-name', 'email', 'street', 'suite', 'city', 'zipcode', 'geo-lat', 'geo-long'])\n",
    "    writer.writerows(userdata)"
   ]
  },
  {
   "cell_type": "code",
   "execution_count": null,
   "id": "9e53cd88",
   "metadata": {},
   "outputs": [],
   "source": []
  }
 ],
 "metadata": {
  "kernelspec": {
   "display_name": "Python 3 (ipykernel)",
   "language": "python",
   "name": "python3"
  },
  "language_info": {
   "codemirror_mode": {
    "name": "ipython",
    "version": 3
   },
   "file_extension": ".py",
   "mimetype": "text/x-python",
   "name": "python",
   "nbconvert_exporter": "python",
   "pygments_lexer": "ipython3",
   "version": "3.9.5"
  }
 },
 "nbformat": 4,
 "nbformat_minor": 5
}
